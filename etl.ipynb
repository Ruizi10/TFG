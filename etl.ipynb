{
 "cells": [
  {
   "cell_type": "code",
   "execution_count": 1,
   "id": "6033ce10",
   "metadata": {},
   "outputs": [],
   "source": [
    "import pandas as pd\n",
    "\n",
    "try:\n",
    "    df = pd.read_csv('../dataset.csv')\n",
    "except FileNotFoundError:\n",
    "    print(\"Error: 'dataset.csv' not found. Please upload the file or provide the correct path.\")\n",
    "except pd.errors.ParserError:\n",
    "    print(\"Error: Could not parse the CSV file. Check its format.\")\n",
    "except Exception as e:\n",
    "    print(f\"An unexpected error occurred: {e}\")"
   ]
  },
  {
   "cell_type": "code",
   "execution_count": null,
   "id": "5e86dcc7",
   "metadata": {},
   "outputs": [],
   "source": [
    "df.rename(columns={\"Gender\": \"genero\"}, inplace=True)\n",
    "df.rename(columns={\"Age\": \"edad\"}, inplace=True)\n",
    "df.rename(columns={\"Study Satisfaction\": \"satisfaccionEstudios\"}, inplace=True)\n",
    "df.rename(columns={\"Sleep Duration\": \"sueno\"}, inplace=True)\n",
    "df.rename(columns={\"Academic Pressure\": \"presionAcademica\"}, inplace=True)\n",
    "df.rename(columns={\"Dietary Habits\": \"alimentacion\"}, inplace=True)\n",
    "df.rename(columns={\"Have you ever had suicidal thoughts ?\": \"suicidio\"}, inplace=True)\n",
    "df.rename(columns={\"Study Hours\": \"horasEstudio\"}, inplace=True)\n",
    "df.rename(columns={\"Financial Stress\": \"estresFinanciero\"}, inplace=True)\n",
    "df.rename(columns={\"Family History of Mental Illness\": \"antecedentes\"}, inplace=True)\n",
    "df.rename(columns={\"Depression\": \"depresion\"}, inplace=True)"
   ]
  },
  {
   "cell_type": "code",
   "execution_count": null,
   "id": "000dcb6b",
   "metadata": {},
   "outputs": [],
   "source": [
    "df[\"presionAcademica\"] = df[\"presionAcademica\"].astype(int)\n",
    "df[\"satisfaccionEstudios\"] = df[\"satisfaccionEstudios\"].astype(int)"
   ]
  },
  {
   "cell_type": "code",
   "execution_count": null,
   "id": "4f44bfd5",
   "metadata": {},
   "outputs": [],
   "source": [
    "df[\"genero\"] = df[\"genero\"].replace({\n",
    "    \"Male\": \"Masculino\",\n",
    "    \"Female\": \"Femenino\"\n",
    "})"
   ]
  },
  {
   "cell_type": "code",
   "execution_count": 17,
   "id": "a272ffae",
   "metadata": {},
   "outputs": [],
   "source": [
    "df[\"sueno\"] = df[\"sueno\"].replace({\n",
    "    \"7-8 hours\": \"7-8 horas\",\n",
    "    \"5-6 hours\": \"5-6 horas\",\n",
    "    \"More than 8 hours\": \"Más de 8 horas\",\n",
    "    \"Less than 5 hours\": \"Menos de 5 horas\"\n",
    "})"
   ]
  },
  {
   "cell_type": "code",
   "execution_count": 19,
   "id": "a9f8d56a",
   "metadata": {},
   "outputs": [],
   "source": [
    "df[\"alimentacion\"] = df[\"alimentacion\"].replace({\n",
    "    \"Moderate\": \"Moderados\",\n",
    "    \"Healthy\": \"Saludables\",\n",
    "    \"Unhealthy\": \"No saludables\"\n",
    "})"
   ]
  },
  {
   "cell_type": "code",
   "execution_count": 24,
   "id": "12ea8f1d",
   "metadata": {},
   "outputs": [
    {
     "name": "stderr",
     "output_type": "stream",
     "text": [
      "C:\\Users\\Usuario\\AppData\\Local\\Temp\\ipykernel_31404\\3735497836.py:1: FutureWarning: Downcasting behavior in `replace` is deprecated and will be removed in a future version. To retain the old behavior, explicitly call `result.infer_objects(copy=False)`. To opt-in to the future behavior, set `pd.set_option('future.no_silent_downcasting', True)`\n",
      "  df[\"suicidio\"] = df[\"suicidio\"].replace({\n",
      "C:\\Users\\Usuario\\AppData\\Local\\Temp\\ipykernel_31404\\3735497836.py:6: FutureWarning: Downcasting behavior in `replace` is deprecated and will be removed in a future version. To retain the old behavior, explicitly call `result.infer_objects(copy=False)`. To opt-in to the future behavior, set `pd.set_option('future.no_silent_downcasting', True)`\n",
      "  df[\"antecedentes\"] = df[\"antecedentes\"].replace({\n",
      "C:\\Users\\Usuario\\AppData\\Local\\Temp\\ipykernel_31404\\3735497836.py:11: FutureWarning: Downcasting behavior in `replace` is deprecated and will be removed in a future version. To retain the old behavior, explicitly call `result.infer_objects(copy=False)`. To opt-in to the future behavior, set `pd.set_option('future.no_silent_downcasting', True)`\n",
      "  df[\"depresion\"] = df[\"depresion\"].replace({\n"
     ]
    }
   ],
   "source": [
    "df[\"suicidio\"] = df[\"suicidio\"].replace({\n",
    "    True: 1,\n",
    "    False: 0\n",
    "})\n",
    "\n",
    "df[\"antecedentes\"] = df[\"antecedentes\"].replace({\n",
    "    True: 1,\n",
    "    False: 0\n",
    "})\n",
    "\n",
    "df[\"depresion\"] = df[\"depresion\"].replace({\n",
    "    True: 1,\n",
    "    False: 0\n",
    "})"
   ]
  },
  {
   "cell_type": "code",
   "execution_count": 25,
   "id": "8b172dad",
   "metadata": {},
   "outputs": [
    {
     "data": {
      "text/html": [
       "<div>\n",
       "<style scoped>\n",
       "    .dataframe tbody tr th:only-of-type {\n",
       "        vertical-align: middle;\n",
       "    }\n",
       "\n",
       "    .dataframe tbody tr th {\n",
       "        vertical-align: top;\n",
       "    }\n",
       "\n",
       "    .dataframe thead th {\n",
       "        text-align: right;\n",
       "    }\n",
       "</style>\n",
       "<table border=\"1\" class=\"dataframe\">\n",
       "  <thead>\n",
       "    <tr style=\"text-align: right;\">\n",
       "      <th></th>\n",
       "      <th>genero</th>\n",
       "      <th>edad</th>\n",
       "      <th>presionAcademica</th>\n",
       "      <th>satisfaccionEstudios</th>\n",
       "      <th>sueno</th>\n",
       "      <th>alimentacion</th>\n",
       "      <th>suicidio</th>\n",
       "      <th>horasEstudio</th>\n",
       "      <th>estresFinanciero</th>\n",
       "      <th>antecedentes</th>\n",
       "      <th>depresion</th>\n",
       "    </tr>\n",
       "  </thead>\n",
       "  <tbody>\n",
       "    <tr>\n",
       "      <th>0</th>\n",
       "      <td>Masculino</td>\n",
       "      <td>28</td>\n",
       "      <td>2</td>\n",
       "      <td>4</td>\n",
       "      <td>7-8 horas</td>\n",
       "      <td>Moderados</td>\n",
       "      <td>1</td>\n",
       "      <td>9</td>\n",
       "      <td>2</td>\n",
       "      <td>1</td>\n",
       "      <td>0</td>\n",
       "    </tr>\n",
       "    <tr>\n",
       "      <th>1</th>\n",
       "      <td>Masculino</td>\n",
       "      <td>28</td>\n",
       "      <td>4</td>\n",
       "      <td>5</td>\n",
       "      <td>5-6 horas</td>\n",
       "      <td>Saludables</td>\n",
       "      <td>1</td>\n",
       "      <td>7</td>\n",
       "      <td>1</td>\n",
       "      <td>1</td>\n",
       "      <td>0</td>\n",
       "    </tr>\n",
       "  </tbody>\n",
       "</table>\n",
       "</div>"
      ],
      "text/plain": [
       "      genero  edad  presionAcademica  satisfaccionEstudios      sueno  \\\n",
       "0  Masculino    28                 2                     4  7-8 horas   \n",
       "1  Masculino    28                 4                     5  5-6 horas   \n",
       "\n",
       "  alimentacion  suicidio  horasEstudio  estresFinanciero  antecedentes  \\\n",
       "0    Moderados         1             9                 2             1   \n",
       "1   Saludables         1             7                 1             1   \n",
       "\n",
       "   depresion  \n",
       "0          0  \n",
       "1          0  "
      ]
     },
     "execution_count": 25,
     "metadata": {},
     "output_type": "execute_result"
    }
   ],
   "source": [
    "df.head(2)"
   ]
  },
  {
   "cell_type": "code",
   "execution_count": 26,
   "id": "a9c71f41",
   "metadata": {},
   "outputs": [],
   "source": [
    "output_path = \"../estudiantes_limpio.csv\"\n",
    "df.to_csv(output_path, index=False)\n"
   ]
  }
 ],
 "metadata": {
  "kernelspec": {
   "display_name": "Python 3",
   "language": "python",
   "name": "python3"
  },
  "language_info": {
   "codemirror_mode": {
    "name": "ipython",
    "version": 3
   },
   "file_extension": ".py",
   "mimetype": "text/x-python",
   "name": "python",
   "nbconvert_exporter": "python",
   "pygments_lexer": "ipython3",
   "version": "3.13.2"
  }
 },
 "nbformat": 4,
 "nbformat_minor": 5
}
